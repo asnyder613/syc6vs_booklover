{
 "cells": [
  {
   "cell_type": "markdown",
   "metadata": {},
   "source": [
    "# Metadata\n",
    "\n",
    "```yaml\n",
    "Course:  DS 5100\n",
    "Module:  09 Python Packages\n",
    "Topic:   HW Package Booklover\n",
    "Author:  R.C. Alvarado (adapted)\n",
    "Date:    10 October 2022 (revised)\n",
    "```"
   ]
  },
  {
   "cell_type": "markdown",
   "metadata": {},
   "source": [
    "# Student Info\n",
    "\n",
    "* Name:  Abigail Snyder\n",
    "* Net UD: syc6vs\n",
    "* URL of this file in GitHub: https://github.com/asnyder613/DS5100-2022-08-syc6vs/blob/b413b90e283b6e43500fd1609fde6551f29a8049/lessons/M09/M09-HW.ipynb"
   ]
  },
  {
   "cell_type": "markdown",
   "metadata": {},
   "source": [
    "# Overview\n",
    "\n",
    "Follow the following recipe we used in class to package the code you wrote for `HW08` -- `booklover.py` and `booklover_test.py`.\n",
    "\n",
    "* Create a new git repo for your package.\n",
    "* Create and edit the required files and directories for your package and move the booklover modules there.\n",
    "* Stage, commit, and push all the files you've created.\n",
    "* Install your package with pip.\n",
    "* Outside of your package dir, write a script to test your method.\n",
    "\n",
    "Put this notebook in your repo. This will allow you to execute bash commands and capture the outpunt directly in the notebook.\n",
    "\n",
    "**TOTAL: 8 POINTS**"
   ]
  },
  {
   "cell_type": "markdown",
   "metadata": {
    "tags": []
   },
   "source": [
    "# Tasks"
   ]
  },
  {
   "cell_type": "markdown",
   "metadata": {},
   "source": [
    "## Task 1\n",
    "\n",
    "(5 points)\n",
    "\n",
    "Show the directory structure of your repo by running this command from the root of your repo:"
   ]
  },
  {
   "cell_type": "code",
   "execution_count": 1,
   "metadata": {},
   "outputs": [
    {
     "name": "stdout",
     "output_type": "stream",
     "text": [
      ".:\n",
      "total 48\n",
      "drwxr-sr-x 3 syc6vs users 1536 Oct 25 20:48 booklover\n",
      "drwxr-sr-x 2 syc6vs users 2048 Oct 25 22:02 booklover.egg-info\n",
      "-rw-r--r-- 1 syc6vs users 2630 Oct 25 20:44 booklover_test.py\n",
      "drwxr-sr-x 2 syc6vs users  512 Oct 25 22:01 dist\n",
      "-rw-r--r-- 1 syc6vs users 7048 Oct 25 20:44 LICENSE\n",
      "-rw-r--r-- 1 syc6vs users 4026 Oct 25 22:13 M09-HW.ipynb\n",
      "-rw-r--r-- 1 syc6vs users  207 Oct 25 20:44 README.md\n",
      "-rw-r--r-- 1 syc6vs users  313 Oct 25 22:01 setup.py\n",
      "\n",
      "./booklover:\n",
      "total 12\n",
      "-rw-r--r-- 1 syc6vs users 1416 Oct 25 20:44 booklover.py\n",
      "-rw-r--r-- 1 syc6vs users   40 Oct 25 20:48 __init__.py\n",
      "\n",
      "./booklover.egg-info:\n",
      "total 16\n",
      "-rw-r--r-- 1 syc6vs users   1 Oct 25 22:02 dependency_links.txt\n",
      "-rw-r--r-- 1 syc6vs users 260 Oct 25 22:02 PKG-INFO\n",
      "-rw-r--r-- 1 syc6vs users 195 Oct 25 22:02 SOURCES.txt\n",
      "-rw-r--r-- 1 syc6vs users  10 Oct 25 22:02 top_level.txt\n",
      "\n",
      "./dist:\n",
      "total 8\n",
      "-rw-r--r-- 1 syc6vs users 1477 Oct 25 22:01 booklover-0.1.tar.gz\n"
     ]
    }
   ],
   "source": [
    "!ls -lR"
   ]
  },
  {
   "cell_type": "markdown",
   "metadata": {},
   "source": [
    "## Task 2\n",
    "\n",
    "(1 point)\n",
    "\n",
    "Put the URL of your GitHub repo here. Just paste it into a Markdown cell."
   ]
  },
  {
   "cell_type": "markdown",
   "metadata": {},
   "source": [
    "URL: https://github.com/asnyder613/syc6vs_booklover.git"
   ]
  },
  {
   "cell_type": "markdown",
   "metadata": {
    "lines_to_next_cell": 0
   },
   "source": [
    "## Task 3\n",
    "\n",
    "(1 point)\n",
    "\n",
    "Show the results of installing your package.\n",
    "\n",
    "```bash\n",
    "!pip install -e .\n",
    "```"
   ]
  },
  {
   "cell_type": "code",
   "execution_count": 2,
   "metadata": {},
   "outputs": [
    {
     "name": "stdout",
     "output_type": "stream",
     "text": [
      "Defaulting to user installation because normal site-packages is not writeable\n",
      "Obtaining file:///sfs/qumulo/qhome/syc6vs/Documents/MSDS/DS5100/syc6vs_booklover\n",
      "Installing collected packages: booklover\n",
      "  Running setup.py develop for booklover\n",
      "Successfully installed booklover\n"
     ]
    }
   ],
   "source": [
    "!pip install -e ."
   ]
  },
  {
   "cell_type": "markdown",
   "metadata": {},
   "source": [
    "## Task 4\n",
    "\n",
    "(1 point)\n",
    "\n",
    "Create a file outside your repo to test your package by running it.\n",
    "\n",
    "To do this, import the package into your file and create a BookLover object.\n",
    "\n",
    "Then add a book and then print number books read.\n",
    "\n",
    "Then run the file. \n",
    "\n",
    "Show the output of running the file below, using a command like the following:\n",
    "\n",
    "```bash\n",
    "!python ../book_lover_demo.py\n",
    "```"
   ]
  },
  {
   "cell_type": "code",
   "execution_count": 27,
   "metadata": {},
   "outputs": [
    {
     "name": "stdout",
     "output_type": "stream",
     "text": [
      "/sfs/qumulo/qhome/syc6vs/Documents/MSDS/DS5100/DS5100-2022-08-syc6vs/lessons/M09\n"
     ]
    }
   ],
   "source": [
    "cd ~/Documents/MSDS/DS5100/DS5100-2022-08-syc6vs/lessons/M09"
   ]
  },
  {
   "cell_type": "code",
   "execution_count": 35,
   "metadata": {},
   "outputs": [
    {
     "name": "stdout",
     "output_type": "stream",
     "text": [
      "Welcome to my booklover module!\n",
      "   Book Name  Book Rating\n",
      "0  Jane Eyre            4\n"
     ]
    }
   ],
   "source": [
    "!python book_lover_demo.py"
   ]
  }
 ],
 "metadata": {
  "jupytext": {
   "cell_metadata_filter": "-all",
   "main_language": "bash",
   "notebook_metadata_filter": "-all"
  },
  "kernelspec": {
   "display_name": "Python 3",
   "language": "python",
   "name": "python3"
  },
  "language_info": {
   "codemirror_mode": {
    "name": "ipython",
    "version": 3
   },
   "file_extension": ".py",
   "mimetype": "text/x-python",
   "name": "python",
   "nbconvert_exporter": "python",
   "pygments_lexer": "ipython3",
   "version": "3.8.8"
  },
  "vscode": {
   "interpreter": {
    "hash": "c3b963de08c47c3b6758389c5e0978ad73698a111eb508d4e16b558edb8f4cbf"
   }
  },
  "widgets": {
   "application/vnd.jupyter.widget-state+json": {
    "state": {},
    "version_major": 2,
    "version_minor": 0
   }
  }
 },
 "nbformat": 4,
 "nbformat_minor": 5
}
